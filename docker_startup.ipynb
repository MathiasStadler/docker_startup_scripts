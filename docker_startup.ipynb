{
 "cells": [
  {
   "cell_type": "markdown",
   "metadata": {},
   "source": [
    "# multi startup script inside docker container "
   ]
  },
  {
   "cell_type": "markdown",
   "metadata": {},
   "source": [
    "# testcase"
   ]
  },
  {
   "cell_type": "code",
   "execution_count": null,
   "metadata": {
    "vscode": {
     "languageId": "shellscript"
    }
   },
   "outputs": [],
   "source": [
    "cd /tmp\n",
    "mkdir -p startup && cd $_\n",
    "pwd\n",
    "touch 10_one.sh\n",
    "touch 20_second.sh\n",
    "touch 30_thirty.sh\n",
    "touch 40_forty.sh\n",
    "touch 50_fifty.sh\n",
    "cd /tmp\n",
    "ls -l startup/*sh"
   ]
  },
  {
   "cell_type": "markdown",
   "metadata": {},
   "source": [
    "# list is oder"
   ]
  },
  {
   "cell_type": "code",
   "execution_count": null,
   "metadata": {
    "vscode": {
     "languageId": "shellscript"
    }
   },
   "outputs": [],
   "source": [
    "printf '%s\\0' startup/*sh|sort -zn |xargs -0 -I{} echo '{}'"
   ]
  },
  {
   "cell_type": "markdown",
   "metadata": {},
   "source": [
    "# /w for loop"
   ]
  },
  {
   "cell_type": "code",
   "execution_count": null,
   "metadata": {
    "vscode": {
     "languageId": "shellscript"
    }
   },
   "outputs": [],
   "source": [
    "for i in startup/*.sh; do echo \"$i\"; done;"
   ]
  },
  {
   "cell_type": "markdown",
   "metadata": {},
   "source": [
    "# format script"
   ]
  },
  {
   "cell_type": "code",
   "execution_count": null,
   "metadata": {
    "vscode": {
     "languageId": "shellscript"
    }
   },
   "outputs": [],
   "source": [
    "#!/bin/bash\n",
    "for i in startup/*.sh;do\n",
    " echo \"$i\";\n",
    " echo \"#content\" >$i;\n",
    " cat $i;\n",
    "done;"
   ]
  },
  {
   "cell_type": "markdown",
   "metadata": {},
   "source": [
    "# /w command"
   ]
  },
  {
   "cell_type": "code",
   "execution_count": null,
   "metadata": {
    "vscode": {
     "languageId": "shellscript"
    }
   },
   "outputs": [],
   "source": [
    "#!/bin/bash\n",
    "for i in startup/*.sh;do\n",
    " echo \"$i\";\n",
    " echo \"pwd &\" >$i;\n",
    " exec sh +x $i;\n",
    " cat $i;\n",
    "done;"
   ]
  },
  {
   "cell_type": "markdown",
   "metadata": {},
   "source": [
    "0. which shell is on start ?"
   ]
  },
  {
   "cell_type": "code",
   "execution_count": null,
   "metadata": {
    "vscode": {
     "languageId": "shellscript"
    }
   },
   "outputs": [],
   "source": [
    "echo $SHELL"
   ]
  },
  {
   "cell_type": "markdown",
   "metadata": {},
   "source": [
    "1. define a name for TEST_BASH_SCRIPT"
   ]
  },
  {
   "cell_type": "code",
   "execution_count": 39,
   "metadata": {
    "vscode": {
     "languageId": "shellscript"
    }
   },
   "outputs": [],
   "source": [
    "export TEST_BASH_SCRIPT=test_bash_script.sh"
   ]
  },
  {
   "cell_type": "markdown",
   "metadata": {},
   "source": [
    "2. bash create script in a bash shell"
   ]
  },
  {
   "cell_type": "code",
   "execution_count": 42,
   "metadata": {
    "vscode": {
     "languageId": "shellscript"
    }
   },
   "outputs": [
    {
     "name": "stdout",
     "output_type": "stream",
     "text": [
      "-rw-rw-r-- 1 trapapa trapapa 82 Feb  5 14:22 ./test_bash_script.sh\n"
     ]
    }
   ],
   "source": [
    "cat >>./$TEST_BASH_SCRIPT << \"EOF\"\n",
    "#!/bin/bash\n",
    "echo \"Hello , I'm a bash script!\"\n",
    "EOF\n",
    "ls -la ./$TEST_BASH_SCRIPT"
   ]
  },
  {
   "cell_type": "markdown",
   "metadata": {},
   "source": [
    "2. run once a bash script im a shell"
   ]
  },
  {
   "cell_type": "code",
   "execution_count": 43,
   "metadata": {
    "vscode": {
     "languageId": "shellscript"
    }
   },
   "outputs": [
    {
     "name": "stdout",
     "output_type": "stream",
     "text": [
      "Hello , I'm a bash script!\n"
     ]
    }
   ],
   "source": [
    "sh +x $TEST_BASH_SCRIPT"
   ]
  },
  {
   "cell_type": "markdown",
   "metadata": {},
   "source": [
    "3. make the script executable"
   ]
  },
  {
   "cell_type": "code",
   "execution_count": 45,
   "metadata": {
    "vscode": {
     "languageId": "shellscript"
    }
   },
   "outputs": [],
   "source": [
    "chmod +x $TEST_BASH_SCRIPT"
   ]
  },
  {
   "cell_type": "markdown",
   "metadata": {},
   "source": [
    "4. run the script without generate a new shell"
   ]
  },
  {
   "cell_type": "code",
   "execution_count": 47,
   "metadata": {
    "vscode": {
     "languageId": "shellscript"
    }
   },
   "outputs": [
    {
     "name": "stdout",
     "output_type": "stream",
     "text": [
      "Hello , I'm a bash script!\n"
     ]
    }
   ],
   "source": [
    "./$TEST_BASH_SCRIPT"
   ]
  },
  {
   "cell_type": "markdown",
   "metadata": {},
   "source": []
  },
  {
   "cell_type": "code",
   "execution_count": null,
   "metadata": {
    "vscode": {
     "languageId": "shellscript"
    }
   },
   "outputs": [],
   "source": [
    "5. # define $TEST_BASH_SCRIPT_STARTER"
   ]
  },
  {
   "cell_type": "code",
   "execution_count": 50,
   "metadata": {
    "vscode": {
     "languageId": "shellscript"
    }
   },
   "outputs": [],
   "source": [
    "export TEST_BASH_SCRIPT_STARTER=test_bash_script_starter.sh"
   ]
  },
  {
   "cell_type": "code",
   "execution_count": 51,
   "metadata": {
    "vscode": {
     "languageId": "shellscript"
    }
   },
   "outputs": [
    {
     "name": "stdout",
     "output_type": "stream",
     "text": [
      "-rw-rw-r-- 1 trapapa trapapa 54 Feb  5 14:37 ./test_bash_script_starter.sh\n",
      "#!/bin/bash\n",
      "echo \"Hello , I'm a bash script STARTER!\"\n"
     ]
    }
   ],
   "source": [
    "cat >>./$TEST_BASH_SCRIPT_STARTER << \"EOF\"\n",
    "#!/bin/bash\n",
    "echo \"Hello , I'm a bash script STARTER!\"\n",
    "EOF\n",
    "ls -la ./$TEST_BASH_SCRIPT_STARTER\n",
    "cat ./$TEST_BASH_SCRIPT_STARTER"
   ]
  },
  {
   "cell_type": "markdown",
   "metadata": {},
   "source": [
    "6. execute a script from another script (script_starter)"
   ]
  },
  {
   "cell_type": "code",
   "execution_count": 52,
   "metadata": {
    "vscode": {
     "languageId": "shellscript"
    }
   },
   "outputs": [
    {
     "name": "stdout",
     "output_type": "stream",
     "text": [
      "Hello , I'm a bash script STARTER!\n"
     ]
    }
   ],
   "source": [
    "sh .//$TEST_BASH_SCRIPT_STARTER"
   ]
  },
  {
   "cell_type": "markdown",
   "metadata": {},
   "source": [
    "7. start a script from a folder"
   ]
  },
  {
   "cell_type": "markdown",
   "metadata": {},
   "source": [
    "7.1 create a script folder"
   ]
  },
  {
   "cell_type": "code",
   "execution_count": 56,
   "metadata": {
    "vscode": {
     "languageId": "shellscript"
    }
   },
   "outputs": [
    {
     "name": "stdout",
     "output_type": "stream",
     "text": [
      "insgesamt 8\n",
      "drwxrwxr-x 2 trapapa trapapa 4096 Feb  5 14:44 .\n",
      "drwxrwxr-x 5 trapapa trapapa 4096 Feb  5 14:44 ..\n"
     ]
    }
   ],
   "source": [
    "mkdir -p $SCRIPT_FOLDER\n",
    "ls -la $SCRIPT_FOLDER"
   ]
  },
  {
   "cell_type": "markdown",
   "metadata": {},
   "source": [
    "7.2 create a script inside the script folder"
   ]
  },
  {
   "cell_type": "code",
   "execution_count": 93,
   "metadata": {
    "vscode": {
     "languageId": "shellscript"
    }
   },
   "outputs": [
    {
     "name": "stdout",
     "output_type": "stream",
     "text": [
      "DELETED SCRIPT !\n",
      "./scripts/test_bash_script_starter.sh: 5: Bad substitution\n",
      "Hello , I'm a bash script STARTER!\n",
      "  \n",
      "Script Name => test_bash_script_starter.sh\n",
      "Script Path => . \n",
      "Script FULL Path => /home/trapapa/docker_startup_scripts/scripts/test_bash_script_starter.sh\n",
      "Directory of Script => /home/trapapa/docker_startup_scripts\n"
     ]
    }
   ],
   "source": [
    "# delete first if exits\n",
    "if [ -f \"./$SCRIPT_FOLDER/$TEST_BASH_SCRIPT_STARTER\" ] ; then\n",
    "    rm \"./$SCRIPT_FOLDER/$TEST_BASH_SCRIPT_STARTER\"\n",
    "    echo \"DELETED SCRIPT !\"\n",
    "fi\n",
    "\n",
    "\n",
    "cat >>./$SCRIPT_FOLDER/$TEST_BASH_SCRIPT_STARTER << \"EOF\"\n",
    "#!/bin/bash\n",
    "SCRIPT_NAME=$(basename \"${0}\")\n",
    "SCRIPT_NAME_W_FULL_PATH=$(readlink -f $0)\n",
    "SCRIPT_PATH=\"$(dirname \"$SCRIPT_NAME\")\"\n",
    "DIR=\"$( cd \"$( dirname \"${BASH_SOURCE[0]}\" )\" && pwd )\"\n",
    "\n",
    "echo \"Hello , I'm a bash script STARTER!\"\n",
    "echo \"  \"\n",
    "echo \"Script Name => $SCRIPT_NAME\"\n",
    "echo \"Script Path => $SCRIPT_PATH \"\n",
    "echo \"Script FULL Path => $SCRIPT_NAME_W_FULL_PATH\"\n",
    "echo \"Directory of Script => $DIR\"\n",
    "EOF\n",
    "\n",
    "# ls -la ./$SCRIPT_FOLDER/$TEST_BASH_SCRIPT_STARTER\n",
    "# cat ./$SCRIPT_FOLDER/$TEST_BASH_SCRIPT_STARTER\n",
    "sh +x ./$SCRIPT_FOLDER/$TEST_BASH_SCRIPT_STARTER"
   ]
  }
 ],
 "metadata": {
  "kernelspec": {
   "display_name": "Bash",
   "language": "bash",
   "name": "bash"
  },
  "language_info": {
   "codemirror_mode": "shell",
   "file_extension": ".sh",
   "mimetype": "text/x-sh",
   "name": "bash"
  }
 },
 "nbformat": 4,
 "nbformat_minor": 2
}
