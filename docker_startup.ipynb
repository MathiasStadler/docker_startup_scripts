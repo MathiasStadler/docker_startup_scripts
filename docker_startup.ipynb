{
 "cells": [
  {
   "cell_type": "markdown",
   "metadata": {},
   "source": [
    "# multi startup script inside docker container "
   ]
  },
  {
   "cell_type": "markdown",
   "metadata": {},
   "source": [
    "# testcase"
   ]
  },
  {
   "cell_type": "code",
   "execution_count": 6,
   "metadata": {
    "vscode": {
     "languageId": "shellscript"
    }
   },
   "outputs": [],
   "source": [
    "export TESTCASE_SCRIPT_CREATE_ENV=testcase_create_env.sh\n",
    "export STARTUP_DIR=/tmp/STARTUP"
   ]
  },
  {
   "cell_type": "code",
   "execution_count": 7,
   "metadata": {
    "vscode": {
     "languageId": "shellscript"
    }
   },
   "outputs": [
    {
     "name": "stdout",
     "output_type": "stream",
     "text": [
      "ls: Zugriff auf '/tmp/STARTUP' nicht möglich: Datei oder Verzeichnis nicht gefunden\n"
     ]
    },
    {
     "ename": "",
     "evalue": "2",
     "output_type": "error",
     "traceback": []
    }
   ],
   "source": [
    "cat >>./$TESTCASE_SCRIPT_CREATE_ENV << \"EOF\"\n",
    "SCRIPT_NAME=$(basename \"${0}\")\n",
    "# SCRIPT_NAME delete first if exits\n",
    "if [ -f \"./$SCRIPT_NAME\" ] ; then\n",
    "    rm -f \"./$SCRIPT_NAME\"\n",
    "    echo \"DELETED SCRIPT => $SCRIPT_NAME !\"\n",
    "fi\n",
    "\n",
    "\n",
    "mkdir -p $STARTUP_DIR && cd $_\n",
    "pwd\n",
    "touch 10_one.sh\n",
    "touch 20_second.sh\n",
    "touch 30_thirty.sh\n",
    "touch 40_forty.sh\n",
    "touch 50_fifty.sh\n",
    "cd /tmp\n",
    "ls -l $STARTUP_DIR/*sh\n",
    "\n",
    "EOF\n",
    "\n",
    "ls -la $STARTUP_DIR"
   ]
  },
  {
   "cell_type": "markdown",
   "metadata": {},
   "source": [
    "# list is oder"
   ]
  },
  {
   "cell_type": "code",
   "execution_count": null,
   "metadata": {
    "vscode": {
     "languageId": "shellscript"
    }
   },
   "outputs": [],
   "source": [
    "printf '%s\\0' startup/*sh|sort -zn |xargs -0 -I{} echo '{}'"
   ]
  },
  {
   "cell_type": "markdown",
   "metadata": {},
   "source": [
    "# /w for loop"
   ]
  },
  {
   "cell_type": "code",
   "execution_count": null,
   "metadata": {
    "vscode": {
     "languageId": "shellscript"
    }
   },
   "outputs": [],
   "source": [
    "for i in startup/*.sh; do echo \"$i\"; done;"
   ]
  },
  {
   "cell_type": "markdown",
   "metadata": {},
   "source": [
    "# format script"
   ]
  },
  {
   "cell_type": "code",
   "execution_count": null,
   "metadata": {
    "vscode": {
     "languageId": "shellscript"
    }
   },
   "outputs": [],
   "source": [
    "#!/bin/bash\n",
    "for i in startup/*.sh;do\n",
    " echo \"$i\";\n",
    " echo \"#content\" >$i;\n",
    " cat $i;\n",
    "done;"
   ]
  },
  {
   "cell_type": "markdown",
   "metadata": {},
   "source": [
    "# /w command"
   ]
  },
  {
   "cell_type": "code",
   "execution_count": null,
   "metadata": {
    "vscode": {
     "languageId": "shellscript"
    }
   },
   "outputs": [],
   "source": [
    "#!/bin/bash\n",
    "for i in startup/*.sh;do\n",
    " echo \"$i\";\n",
    " echo \"pwd &\" >$i;\n",
    " exec sh +x $i;\n",
    " cat $i;\n",
    "done;"
   ]
  },
  {
   "cell_type": "markdown",
   "metadata": {},
   "source": [
    "0. which shell is on start ?"
   ]
  },
  {
   "cell_type": "code",
   "execution_count": null,
   "metadata": {
    "vscode": {
     "languageId": "shellscript"
    }
   },
   "outputs": [],
   "source": [
    "echo $SHELL"
   ]
  },
  {
   "cell_type": "markdown",
   "metadata": {},
   "source": [
    "1. define a name for TEST_BASH_SCRIPT"
   ]
  },
  {
   "cell_type": "code",
   "execution_count": null,
   "metadata": {
    "vscode": {
     "languageId": "shellscript"
    }
   },
   "outputs": [],
   "source": [
    "export TEST_BASH_SCRIPT=test_bash_script.sh"
   ]
  },
  {
   "cell_type": "markdown",
   "metadata": {},
   "source": [
    "2. bash create script in a bash shell"
   ]
  },
  {
   "cell_type": "code",
   "execution_count": 97,
   "metadata": {
    "vscode": {
     "languageId": "shellscript"
    }
   },
   "outputs": [
    {
     "name": "stdout",
     "output_type": "stream",
     "text": [
      "-rwxrwxr-x 1 trapapa trapapa 128 Feb  5 16:11 ./test_bash_script.sh\n"
     ]
    }
   ],
   "source": [
    "cat >>./$TEST_BASH_SCRIPT << \"EOF\"\n",
    "#!/bin/bash\n",
    "echo \"Hello , I'm a bash script!\"\n",
    "EOF\n",
    "ls -la ./$TEST_BASH_SCRIPT"
   ]
  },
  {
   "cell_type": "markdown",
   "metadata": {},
   "source": [
    "2. run once a bash script im a shell"
   ]
  },
  {
   "cell_type": "code",
   "execution_count": 96,
   "metadata": {
    "vscode": {
     "languageId": "shellscript"
    }
   },
   "outputs": [
    {
     "name": "stdout",
     "output_type": "stream",
     "text": [
      "Hello , I'm a bash script!\n"
     ]
    }
   ],
   "source": [
    "sh +x $TEST_BASH_SCRIPT"
   ]
  },
  {
   "cell_type": "markdown",
   "metadata": {},
   "source": [
    "3. make the script executable"
   ]
  },
  {
   "cell_type": "code",
   "execution_count": null,
   "metadata": {
    "vscode": {
     "languageId": "shellscript"
    }
   },
   "outputs": [],
   "source": [
    "chmod +x $TEST_BASH_SCRIPT"
   ]
  },
  {
   "cell_type": "markdown",
   "metadata": {},
   "source": [
    "4. run the script without generate a new shell"
   ]
  },
  {
   "cell_type": "code",
   "execution_count": null,
   "metadata": {
    "vscode": {
     "languageId": "shellscript"
    }
   },
   "outputs": [],
   "source": [
    "./$TEST_BASH_SCRIPT"
   ]
  },
  {
   "cell_type": "code",
   "execution_count": null,
   "metadata": {
    "vscode": {
     "languageId": "shellscript"
    }
   },
   "outputs": [],
   "source": [
    "5. # define $TEST_BASH_SCRIPT_STARTER"
   ]
  },
  {
   "cell_type": "code",
   "execution_count": null,
   "metadata": {
    "vscode": {
     "languageId": "shellscript"
    }
   },
   "outputs": [],
   "source": [
    "export BASH_SCRIPT_STARTER=bash_script_starter.sh"
   ]
  },
  {
   "cell_type": "code",
   "execution_count": 95,
   "metadata": {
    "vscode": {
     "languageId": "shellscript"
    }
   },
   "outputs": [
    {
     "name": "stdout",
     "output_type": "stream",
     "text": [
      "bash: ./: Ist ein Verzeichnis\n",
      "insgesamt 116\n",
      "drwxrwxr-x   5 trapapa trapapa  4096 Feb  5 16:09  .\n",
      "drwxr-xr-x 140 trapapa trapapa 12288 Feb  5 10:59  ..\n",
      "-rw-rw-r--   1 trapapa trapapa 67552 Feb  5 14:18 '$'\n",
      "-rw-rw-r--   1 trapapa trapapa  9193 Feb  5 16:09  docker_startup.ipynb\n",
      "drwxrwxr-x   8 trapapa trapapa  4096 Feb  5 15:46  .git\n",
      "drwxrwxr-x   2 trapapa trapapa  4096 Feb  5 14:40  scriptfolder\n",
      "drwxrwxr-x   2 trapapa trapapa  4096 Feb  5 15:45  scripts\n",
      "-rwxrwxr-x   1 trapapa trapapa    82 Feb  5 14:22  test_bash_script.sh\n",
      "-rw-rw-r--   1 trapapa trapapa   458 Feb  5 16:09  test_bash_script_starter.sh\n",
      "cat: ./: Ist ein Verzeichnis\n"
     ]
    },
    {
     "ename": "",
     "evalue": "1",
     "output_type": "error",
     "traceback": []
    }
   ],
   "source": [
    "cat >>./$BASH_SCRIPT_STARTER << \"EOF\"\n",
    "#!/bin/bash\n",
    "echo \"Hello , I'm a bash script STARTER!\"\n",
    "EOF\n",
    "ls -la ./$BASH_SCRIPT_STARTER\n",
    "cat ./$BASH_SCRIPT_STARTER"
   ]
  },
  {
   "cell_type": "markdown",
   "metadata": {},
   "source": [
    "6. execute a script from another script (script_starter)"
   ]
  },
  {
   "cell_type": "code",
   "execution_count": null,
   "metadata": {
    "vscode": {
     "languageId": "shellscript"
    }
   },
   "outputs": [],
   "source": [
    "sh ./$BASH_SCRIPT_STARTER"
   ]
  },
  {
   "cell_type": "markdown",
   "metadata": {},
   "source": [
    "7. start a script from a folder"
   ]
  },
  {
   "cell_type": "markdown",
   "metadata": {},
   "source": [
    "7.1 create a script folder"
   ]
  },
  {
   "cell_type": "code",
   "execution_count": null,
   "metadata": {
    "vscode": {
     "languageId": "shellscript"
    }
   },
   "outputs": [],
   "source": [
    "mkdir -p $SCRIPT_FOLDER\n",
    "ls -la $SCRIPT_FOLDER"
   ]
  },
  {
   "cell_type": "markdown",
   "metadata": {},
   "source": [
    "7.2 create a script execute the script of folder"
   ]
  },
  {
   "cell_type": "code",
   "execution_count": 98,
   "metadata": {
    "vscode": {
     "languageId": "shellscript"
    }
   },
   "outputs": [
    {
     "name": "stdout",
     "output_type": "stream",
     "text": [
      "DELETED SCRIPT !\n",
      "./scripts/test_bash_script_starter.sh: 5: Bad substitution\n",
      "Hello , I'm a bash script STARTER!\n",
      "  \n",
      "Script Name => test_bash_script_starter.sh\n",
      "Script Path => . \n",
      "Script FULL Path => /home/trapapa/docker_startup_scripts/scripts/test_bash_script_starter.sh\n",
      "Directory of Script => /home/trapapa/docker_startup_scripts\n"
     ]
    }
   ],
   "source": [
    "# delete first if exits\n",
    "if [ -f \"./$TEST_BASH_SCRIPT_STARTER\" ] ; then\n",
    "    rm \"./$TEST_BASH_SCRIPT_STARTER\"\n",
    "    echo \"DELETED SCRIPT !\"\n",
    "fi\n",
    "\n",
    "\n",
    "cat >>./$TEST_BASH_SCRIPT_STARTER << \"EOF\"\n",
    "#!/bin/bash\n",
    "SCRIPT_NAME=$(basename \"${0}\")\n",
    "SCRIPT_NAME_W_FULL_PATH=$(readlink -f $0)\n",
    "SCRIPT_PATH=\"$(dirname \"$SCRIPT_NAME\")\"\n",
    "DIR=\"$( cd \"$( dirname \"${BASH_SOURCE[0]}\" )\" && pwd )\"\n",
    "\n",
    "echo \"Hello , I'm a bash script STARTER!\"\n",
    "echo \"  \"\n",
    "echo \"Script Name => $SCRIPT_NAME\"\n",
    "echo \"Script Path => $SCRIPT_PATH \"\n",
    "echo \"Script FULL Path => $SCRIPT_NAME_W_FULL_PATH\"\n",
    "echo \"Directory of Script => $DIR\"\n",
    "\n",
    "echo \"List of files inside SCRIPT_FOLDER\"\n",
    "ls -la $SCRIPT_FOLDER\n",
    "\n",
    "EOF\n",
    "\n",
    "# ls -la ./$SCRIPT_FOLDER/$TEST_BASH_SCRIPT_STARTER\n",
    "# cat ./$SCRIPT_FOLDER/$TEST_BASH_SCRIPT_STARTER\n",
    "sh +x ./$SCRIPT_FOLDER/$TEST_BASH_SCRIPT_STARTER"
   ]
  }
 ],
 "metadata": {
  "kernelspec": {
   "display_name": "Bash",
   "language": "bash",
   "name": "bash"
  },
  "language_info": {
   "codemirror_mode": "shell",
   "file_extension": ".sh",
   "mimetype": "text/x-sh",
   "name": "bash"
  }
 },
 "nbformat": 4,
 "nbformat_minor": 2
}
