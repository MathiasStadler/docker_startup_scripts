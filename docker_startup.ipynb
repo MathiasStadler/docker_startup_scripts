{
 "cells": [
  {
   "cell_type": "markdown",
   "metadata": {},
   "source": [
    "# multi startup script inside docker container "
   ]
  },
  {
   "cell_type": "markdown",
   "metadata": {},
   "source": [
    "# testcase"
   ]
  },
  {
   "cell_type": "code",
   "execution_count": 7,
   "metadata": {
    "vscode": {
     "languageId": "shellscript"
    }
   },
   "outputs": [
    {
     "name": "stdout",
     "output_type": "stream",
     "text": [
      "/tmp/folder\n",
      "insgesamt 0\n",
      "-rw-rw-r-- 1 trapapa trapapa 0 Feb  5 10:39 10_one.sh\n",
      "-rw-rw-r-- 1 trapapa trapapa 0 Feb  5 10:39 20_second.sh\n",
      "-rw-rw-r-- 1 trapapa trapapa 0 Feb  5 10:39 30_thirty.sh\n"
     ]
    }
   ],
   "source": [
    "cd /tmp\n",
    "mkdir -p folder && cd $_\n",
    "pwd\n",
    "touch 10_one.sh\n",
    "touch 20_second.sh\n",
    "touch 30_thirty.sh\n",
    "ls -l"
   ]
  }
 ],
 "metadata": {
  "kernelspec": {
   "display_name": "Bash",
   "language": "bash",
   "name": "bash"
  },
  "language_info": {
   "codemirror_mode": "shell",
   "file_extension": ".sh",
   "mimetype": "text/x-sh",
   "name": "bash"
  }
 },
 "nbformat": 4,
 "nbformat_minor": 2
}
